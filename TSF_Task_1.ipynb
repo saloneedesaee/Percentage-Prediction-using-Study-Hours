{
  "nbformat": 4,
  "nbformat_minor": 0,
  "metadata": {
    "colab": {
      "name": "TSF_Task-1.ipynb",
      "provenance": []
    },
    "kernelspec": {
      "name": "python3",
      "display_name": "Python 3"
    }
  },
  "cells": [
    {
      "cell_type": "markdown",
      "metadata": {
        "id": "4jz52A9VseGE"
      },
      "source": [
        "# Task 1- Prediction using Linear Regression "
      ]
    },
    {
      "cell_type": "markdown",
      "metadata": {
        "id": "5j4EEFS8tRYb"
      },
      "source": [
        "Predict the percentage of a student based on the number of study hours\r\n"
      ]
    },
    {
      "cell_type": "markdown",
      "metadata": {
        "id": "hBTCm4PvqXIn"
      },
      "source": [
        "**By - Saloni Desai**"
      ]
    },
    {
      "cell_type": "code",
      "metadata": {
        "id": "k13z__DXsmpn"
      },
      "source": [
        "#import libraries\r\n",
        "import pandas as pd\r\n",
        "import numpy as np  \r\n",
        "import matplotlib.pyplot as plt  \r\n",
        "from sklearn import metrics\r\n",
        "%matplotlib inline"
      ],
      "execution_count": null,
      "outputs": []
    },
    {
      "cell_type": "code",
      "metadata": {
        "colab": {
          "base_uri": "https://localhost:8080/",
          "height": 195
        },
        "id": "0lhY8GF1uBEp",
        "outputId": "f2c6d72b-525a-4dc6-9e76-e93fdf0ccd69"
      },
      "source": [
        "#importing the data set\r\n",
        "dataset = pd.read_csv('student_scores - student_scores.csv')\r\n",
        "dataset.head()\r\n"
      ],
      "execution_count": null,
      "outputs": [
        {
          "output_type": "execute_result",
          "data": {
            "text/html": [
              "<div>\n",
              "<style scoped>\n",
              "    .dataframe tbody tr th:only-of-type {\n",
              "        vertical-align: middle;\n",
              "    }\n",
              "\n",
              "    .dataframe tbody tr th {\n",
              "        vertical-align: top;\n",
              "    }\n",
              "\n",
              "    .dataframe thead th {\n",
              "        text-align: right;\n",
              "    }\n",
              "</style>\n",
              "<table border=\"1\" class=\"dataframe\">\n",
              "  <thead>\n",
              "    <tr style=\"text-align: right;\">\n",
              "      <th></th>\n",
              "      <th>Hours</th>\n",
              "      <th>Scores</th>\n",
              "    </tr>\n",
              "  </thead>\n",
              "  <tbody>\n",
              "    <tr>\n",
              "      <th>0</th>\n",
              "      <td>2.5</td>\n",
              "      <td>21</td>\n",
              "    </tr>\n",
              "    <tr>\n",
              "      <th>1</th>\n",
              "      <td>5.1</td>\n",
              "      <td>47</td>\n",
              "    </tr>\n",
              "    <tr>\n",
              "      <th>2</th>\n",
              "      <td>3.2</td>\n",
              "      <td>27</td>\n",
              "    </tr>\n",
              "    <tr>\n",
              "      <th>3</th>\n",
              "      <td>8.5</td>\n",
              "      <td>75</td>\n",
              "    </tr>\n",
              "    <tr>\n",
              "      <th>4</th>\n",
              "      <td>3.5</td>\n",
              "      <td>30</td>\n",
              "    </tr>\n",
              "  </tbody>\n",
              "</table>\n",
              "</div>"
            ],
            "text/plain": [
              "   Hours  Scores\n",
              "0    2.5      21\n",
              "1    5.1      47\n",
              "2    3.2      27\n",
              "3    8.5      75\n",
              "4    3.5      30"
            ]
          },
          "metadata": {
            "tags": []
          },
          "execution_count": 76
        }
      ]
    },
    {
      "cell_type": "code",
      "metadata": {
        "colab": {
          "base_uri": "https://localhost:8080/"
        },
        "id": "bPT4DeXquwyO",
        "outputId": "0369a8ec-bee8-4aaf-f25c-0e4b7c38c558"
      },
      "source": [
        "dataset.shape"
      ],
      "execution_count": null,
      "outputs": [
        {
          "output_type": "execute_result",
          "data": {
            "text/plain": [
              "(25, 2)"
            ]
          },
          "metadata": {
            "tags": []
          },
          "execution_count": 77
        }
      ]
    },
    {
      "cell_type": "markdown",
      "metadata": {
        "id": "-G-8C64DvCDK"
      },
      "source": [
        "**Prepping and Splitting the Dataset**\r\n"
      ]
    },
    {
      "cell_type": "code",
      "metadata": {
        "id": "fumaOUe-uyDm"
      },
      "source": [
        "X = dataset.iloc[:, :-1].values  \r\n",
        "y = dataset.iloc[:, 1].values  \r\n",
        "from sklearn.model_selection import train_test_split \r\n",
        "X_train, X_test, y_train, y_test = train_test_split(X, y, test_size=1/5, random_state=1)"
      ],
      "execution_count": null,
      "outputs": []
    },
    {
      "cell_type": "markdown",
      "metadata": {
        "id": "ChHlSz8mwkb4"
      },
      "source": [
        "**Training the data using Linear Regression**"
      ]
    },
    {
      "cell_type": "code",
      "metadata": {
        "colab": {
          "base_uri": "https://localhost:8080/"
        },
        "id": "07Wr3sofu71q",
        "outputId": "8ff5b230-19cc-494d-a9d1-3061ce2dac83"
      },
      "source": [
        "# Fitting Simple Linear Regression to the Training set\r\n",
        "from sklearn.linear_model import LinearRegression\r\n",
        "regressor = LinearRegression()\r\n",
        "regressor.fit(X_train, y_train)"
      ],
      "execution_count": null,
      "outputs": [
        {
          "output_type": "execute_result",
          "data": {
            "text/plain": [
              "LinearRegression(copy_X=True, fit_intercept=True, n_jobs=None, normalize=False)"
            ]
          },
          "metadata": {
            "tags": []
          },
          "execution_count": 79
        }
      ]
    },
    {
      "cell_type": "markdown",
      "metadata": {
        "id": "Q0W_hgn5wxLO"
      },
      "source": [
        "**Data Visualizations on the models**"
      ]
    },
    {
      "cell_type": "code",
      "metadata": {
        "colab": {
          "base_uri": "https://localhost:8080/",
          "height": 295
        },
        "id": "wwHWfvV2vPru",
        "outputId": "9357704e-68e1-4859-dcdb-3b0c4f53e8a3"
      },
      "source": [
        "#Training model\r\n",
        "viz_train = plt\r\n",
        "viz_train.scatter(X_train, y_train, color='red')\r\n",
        "viz_train.plot(X_train, regressor.predict(X_train), color='blue')\r\n",
        "viz_train.title('Percent VS Study Hours (Training set)')\r\n",
        "viz_train.xlabel('Study Hours')\r\n",
        "viz_train.ylabel('Percent')\r\n",
        "viz_train.show()"
      ],
      "execution_count": null,
      "outputs": [
        {
          "output_type": "display_data",
          "data": {
            "image/png": "[encoded data removed]",
            "text/plain": [
              "<Figure size 432x288 with 1 Axes>"
            ]
          },
          "metadata": {
            "tags": [],
            "needs_background": "light"
          }
        }
      ]
    },
    {
      "cell_type": "code",
      "metadata": {
        "colab": {
          "base_uri": "https://localhost:8080/",
          "height": 295
        },
        "id": "lu-ovSvJyMTl",
        "outputId": "baf47fa9-2c2d-41ce-886c-cc74dfa03244"
      },
      "source": [
        "#Testing model\r\n",
        "viz_test = plt\r\n",
        "viz_test.scatter(X_test, y_test, color='red')\r\n",
        "viz_test.plot(X_train, regressor.predict(X_train), color='blue')\r\n",
        "viz_test.title('Percent VS Study Hours (Test set)')\r\n",
        "viz_test.xlabel('Study Hours')\r\n",
        "viz_test.ylabel('Percent')\r\n",
        "viz_test.show()"
      ],
      "execution_count": null,
      "outputs": [
        {
          "output_type": "display_data",
          "data": {
            "image/png": "[encoded data removed]",
            "text/plain": [
              "<Figure size 432x288 with 1 Axes>"
            ]
          },
          "metadata": {
            "tags": [],
            "needs_background": "light"
          }
        }
      ]
    },
    {
      "cell_type": "markdown",
      "metadata": {
        "id": "sT4tlhtEynnr"
      },
      "source": [
        "**Making Predictions**"
      ]
    },
    {
      "cell_type": "code",
      "metadata": {
        "colab": {
          "base_uri": "https://localhost:8080/",
          "height": 195
        },
        "id": "TlQ5zY0u1lav",
        "outputId": "33cbf558-ed61-4249-d25a-6c502a07f828"
      },
      "source": [
        "#print(X_test) # Testing data - In Hours\r\n",
        "y_pred = regressor.predict(X_test) # Predicting the scores\r\n",
        "\r\n",
        "# Comparing Actual vs Predicted\r\n",
        "df = pd.DataFrame({'Actual': y_test, 'Predicted': y_pred})  \r\n",
        "df "
      ],
      "execution_count": null,
      "outputs": [
        {
          "output_type": "execute_result",
          "data": {
            "text/html": [
              "<div>\n",
              "<style scoped>\n",
              "    .dataframe tbody tr th:only-of-type {\n",
              "        vertical-align: middle;\n",
              "    }\n",
              "\n",
              "    .dataframe tbody tr th {\n",
              "        vertical-align: top;\n",
              "    }\n",
              "\n",
              "    .dataframe thead th {\n",
              "        text-align: right;\n",
              "    }\n",
              "</style>\n",
              "<table border=\"1\" class=\"dataframe\">\n",
              "  <thead>\n",
              "    <tr style=\"text-align: right;\">\n",
              "      <th></th>\n",
              "      <th>Actual</th>\n",
              "      <th>Predicted</th>\n",
              "    </tr>\n",
              "  </thead>\n",
              "  <tbody>\n",
              "    <tr>\n",
              "      <th>0</th>\n",
              "      <td>17</td>\n",
              "      <td>9.970262</td>\n",
              "    </tr>\n",
              "    <tr>\n",
              "      <th>1</th>\n",
              "      <td>42</td>\n",
              "      <td>32.984700</td>\n",
              "    </tr>\n",
              "    <tr>\n",
              "      <th>2</th>\n",
              "      <td>24</td>\n",
              "      <td>18.339148</td>\n",
              "    </tr>\n",
              "    <tr>\n",
              "      <th>3</th>\n",
              "      <td>75</td>\n",
              "      <td>87.382463</td>\n",
              "    </tr>\n",
              "    <tr>\n",
              "      <th>4</th>\n",
              "      <td>54</td>\n",
              "      <td>48.676362</td>\n",
              "    </tr>\n",
              "  </tbody>\n",
              "</table>\n",
              "</div>"
            ],
            "text/plain": [
              "   Actual  Predicted\n",
              "0      17   9.970262\n",
              "1      42  32.984700\n",
              "2      24  18.339148\n",
              "3      75  87.382463\n",
              "4      54  48.676362"
            ]
          },
          "metadata": {
            "tags": []
          },
          "execution_count": 82
        }
      ]
    },
    {
      "cell_type": "code",
      "metadata": {
        "colab": {
          "base_uri": "https://localhost:8080/"
        },
        "id": "ZX6NmzzRydRj",
        "outputId": "16bcf3fc-10bf-4ce0-fd36-4837f5cbd7ae"
      },
      "source": [
        "# Predicting the result of 9.25 hours of study\r\n",
        "Hours = 9.25\r\n",
        "Test = np.array([Hours])\r\n",
        "Test = Test.reshape(-1,1)\r\n",
        "Prediction = regressor.predict(Test)\r\n",
        "print(f\"Number of hours = {Hours}\")\r\n",
        "print(f\"Predicted score = {Prediction[0]}\")\r\n"
      ],
      "execution_count": null,
      "outputs": [
        {
          "output_type": "stream",
          "text": [
            "Number of hours = 9.25\n",
            "Predicted score = 95.22829438402952\n"
          ],
          "name": "stdout"
        }
      ]
    },
    {
      "cell_type": "markdown",
      "metadata": {
        "id": "R_tJRIeP2KMo"
      },
      "source": [
        "**Evaluating the performance of the model**"
      ]
    },
    {
      "cell_type": "code",
      "metadata": {
        "colab": {
          "base_uri": "https://localhost:8080/"
        },
        "id": "CIE9EqX4yvJH",
        "outputId": "caba5a47-10c5-4490-8c6a-93e20fd07fb5"
      },
      "source": [
        "print('Mean Absolute Error:', \r\n",
        "      metrics.mean_absolute_error(y_test, y_pred)) "
      ],
      "execution_count": null,
      "outputs": [
        {
          "output_type": "stream",
          "text": [
            "Mean Absolute Error: 7.882398086270432\n"
          ],
          "name": "stdout"
        }
      ]
    },
    {
      "cell_type": "markdown",
      "metadata": {
        "id": "kWnrNz6iqTdY"
      },
      "source": [
        "**Conclusion**"
      ]
    },
    {
      "cell_type": "markdown",
      "metadata": {
        "id": "63mvJIDSqHX1"
      },
      "source": [
        "Thus we can conclude that, when a student studies for 9.25 hours he may score 95% marks"
      ]
    },
    {
      "cell_type": "code",
      "metadata": {
        "id": "6-4AoHmJ21fh"
      },
      "source": [
        ""
      ],
      "execution_count": null,
      "outputs": []
    }
  ]
}